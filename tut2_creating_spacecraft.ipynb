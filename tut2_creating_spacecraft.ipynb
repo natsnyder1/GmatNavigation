{
 "cells": [
  {
   "cell_type": "code",
   "execution_count": null,
   "id": "cde9d333",
   "metadata": {},
   "outputs": [],
   "source": [
    "import os\n",
    "from datetime import datetime\n",
    "import numpy as np \n",
    "import gmat_nav as gnav\n",
    "# Directory location of this Jupyter notebook tutorial\n",
    "file_dir = os.path.abspath('') #os.path.dirname(os.path.abspath(__file__))\n",
    "# --------------- USER DEFINED PATHS (USER -- PLEASE LOOK HERE!) ------------------# \n",
    "gmat_root_dir = '/home/natsubuntu/Desktop/SysControl/estimation/CauchyCPU/CauchyEst_Nat/GMAT'\n",
    "gmat_data_dir = file_dir + \"/data\"\n",
    "eop_filepath = gmat_data_dir + \"/eop_file.txt\"\n",
    "spaceweather_filepath = gmat_data_dir + \"/SpaceWeather-v1.2.txt\"\n",
    "gnav.check_then_load_gmatpy(gmat_root_dir, eop_filepath, spaceweather_filepath)\n",
    "gmat = gnav.gmat # our handle to the gmat module, loaded through gnav\n",
    "gmat.Clear() # clears any junk lying around "
   ]
  },
  {
   "cell_type": "markdown",
   "id": "c059a3af",
   "metadata": {},
   "source": [
    "Welcome to tutorial 2! In this tutorial, we will use the GMAT API to simulate an earth orbiting satellite. We will see how to propagate the satellite around earth, model an atmosphere, solar radiation pressure, and other forces that interact with our orbiter.\n",
    "\n",
    "A quick note: the author of these tutorials has attempted to explain many of the high level GMAT (Python API) concepts. However, detail and explanation of some parameters not deemed \"high-level\" have been omitted. One can find an extensive reference manual by opening up the GMAT GUI, clicking \"Reference Guide\" under \"Links and Resources\", and searching for the topic of interest. It is truly an extensive documentation source on all concepts GMAT, but is little help for understanding how the Python API works. Thats where these tutorials comes in.\n",
    "\n",
    "Lets get started. First on the docket: as we are constructing an earth-orbiting satellite, we need to specifically tell GMAT what EOP file to use. We also need to specify an ephemeris source. This can be done by configuring your \"solar system\" through the GMAT moderator as"
   ]
  },
  {
   "cell_type": "code",
   "execution_count": null,
   "id": "6f85cef4",
   "metadata": {},
   "outputs": [],
   "source": [
    "mod = gmat.Moderator.Instance() # Instance of the GMAT Moderator\n",
    "ss = mod.GetDefaultSolarSystem() # Get solar system object\n",
    "ss.SetField(\"EphemerisSource\", \"DE421\") # Tell GMAT the ephemeris source, this is a standard choice, and included with GMAT\n",
    "earth = ss.GetBody('Earth') # Get reference to the Earth \n",
    "earth.SetField('EopFileName', eop_filepath) # Set EOP params for an Earth Orbiter"
   ]
  },
  {
   "cell_type": "markdown",
   "id": "8aab78b0",
   "metadata": {},
   "source": [
    "The above is a crucial (but under-reported) step when setting up an earth-orbiting satellite. Specifying the EOP file becomes unavoidable when processing GPS measurements (which are typically given in the Earth Body Fixed Frame and not an Earth Inertial Frame -- much more on this later). If not done, you may recieve a headache, courtesy of GMAT, when converting between coordinate frames. So, this point is belabored up front.\n",
    "\n",
    "Now that our solar system is properly setup for earth orbit, lets go ahead and start defining a satellite that will orbit earth."
   ]
  },
  {
   "cell_type": "code",
   "execution_count": null,
   "id": "76757220",
   "metadata": {},
   "outputs": [],
   "source": [
    "# Create a satellite, using UTC Gregorian Time, with Cartesian State type, and in the EarthMJ2000Eq (Inertial) frame\n",
    "sat = gmat.Construct(\"Spacecraft\", \"Fermi\") # Naming the spacecraft 'Fermi'\n",
    "sat.SetField(\"DateFormat\", \"UTCGregorian\") # Setting DateFormat to UTCGregorian\n",
    "sat.SetField(\"CoordinateSystem\", \"EarthMJ2000Eq\") # Setting CoordinateSystem to EarthMJ2000Eq\n",
    "sat.SetField(\"DisplayStateType\",\"Cartesian\") # Setting DisplayStateType to Cartesian"
   ]
  },
  {
   "cell_type": "markdown",
   "id": "3979f5ac",
   "metadata": {},
   "source": [
    "GMAT's Construct(...) function is used to return a GMAT Object. The first argument to Construct(...) is the GMAT Object you wish to construct. The second argument is a user-provided name. The Spacecraft object is what we need to define an earth-orbiting satellite.\n",
    "\n",
    "Almost every GMAT object returned by Construct(...) will have a method called SetField(...), which allows you to set its various attributes. The first argument of SetField(...) is the field itself you wish to set, while the second argument is its value. The above is fairly standard, for an earth orbiter.\n",
    "\n",
    "We need to specify the satellite properties now, by using its SetField(...). For a basic satellite, we will need to specify its Epoch (i.e., time), (dry)mass, nominal coefficient of drag, nominal coefficient of reflectivity, satellite area, mass, and its state (position vector, velocity vector). We can do so as "
   ]
  },
  {
   "cell_type": "code",
   "execution_count": null,
   "id": "0a69b693",
   "metadata": {},
   "outputs": [],
   "source": [
    "# Define the time (i.e, your epoch) and your state\n",
    "t0 = \"10 Jul 2023 19:34:54.000\" # Initial Time in UTC Gregorian!\n",
    "pos3 = np.array([4.9962452882705193e+03,3.8779464630861030e+03,2.7360432364171807e+03]) # approx a 550 (units -> kilometer) orbit\n",
    "vel3 = np.array([-5.0280935744461930e+00,5.5759213419992673e+00,1.2698611722905329e+00]) # speed (units -> kilometers/second) needed to \n",
    "x0 = np.concatenate((pos3, vel3)) # Your initial state vector\n",
    "Cd0 = 2.1 # nominal coefficient of drag # unitless\n",
    "Cr0 = 0.75 # nominal coefficient of reflectivity # unitless\n",
    "A = 14.18 # (Drag) Area of the satellite # units -> meters\n",
    "m = 3995.6 # (dry) mass of the satellite # units -> kilograms\n",
    "sat_ID = '2525' # pick your favorite number, as a string\n",
    "\n",
    "sat.SetField(\"Epoch\", t0)\n",
    "sat.SetField(\"X\", x0[0])\n",
    "sat.SetField(\"Y\", x0[1])\n",
    "sat.SetField(\"Z\", x0[2])\n",
    "sat.SetField(\"VX\", x0[3])\n",
    "sat.SetField(\"VY\", x0[4])\n",
    "sat.SetField(\"VZ\", x0[5])\n",
    "sat.SetField(\"Cd\", Cd0)\n",
    "sat.SetField(\"Cr\", Cr0)\n",
    "sat.SetField(\"DragArea\", A)\n",
    "sat.SetField(\"SRPArea\", A) # Equal SRP (solar radiation pressure) area as DragArea\n",
    "sat.SetField(\"DryMass\", m)\n",
    "sat.SetField(\"Id\", sat_ID)"
   ]
  },
  {
   "cell_type": "markdown",
   "id": "227e4c07",
   "metadata": {},
   "source": [
    "We may also wish to specify that the satellite has a fuel tank, which adds additional mass due to the weight of its propellant. We can put this into the works as "
   ]
  },
  {
   "cell_type": "code",
   "execution_count": null,
   "id": "8ce3307b",
   "metadata": {},
   "outputs": [],
   "source": [
    "fuel_mass = 359.9 # units -> kilograms\n",
    "fueltank = gmat.Construct(\"ChemicalTank\", \"FuelTank\") # Naming our ChemicalTank 'FuelTank'\n",
    "fueltank.SetField(\"FuelMass\", fuel_mass)\n",
    "sat.SetField(\"Tanks\", \"FuelTank\") # Assign ChemicalTank Object to our Satellite Object by its name"
   ]
  },
  {
   "cell_type": "markdown",
   "id": "84b8e8c5",
   "metadata": {},
   "source": [
    "Above, the last line of our code block assigns the Fuel Tank (ChemicalTank) Object to the Satellite Object. GMAT's backend can do so by using the names you've attributed to the objects themselves.\n",
    "\n",
    "You may be wondering \"well...what are the configurable parameters of each GMAT Object?\"\n",
    "> You can use an objects \"obj.Help()\" method to, well, help you out here. It will print out some commentary on what this object is, as well as its parameters.\n",
    "\n",
    "You may also be wondering, \"well...how do I know my parameters have actually been accepted by GMAT?\"\n",
    "\n",
    "The answer is twofold: \n",
    "> 1.) Usually, GMAT will throw a (possibly cryptic) error if you do something illegal. In the experience of the author of this tutorial, this isn't always the case: sometimes GMAT simply dismisses mis-specified parameters and does not notify you.\n",
    "\n",
    "<br>\n",
    "\n",
    "> 2.) Use the objects \"obj.GetGeneratingString(0)\" method, which lists the objects parameters, as well as values they are set to. This makes it very easy to check and see if things were set correctly when configuring your orbital environment.\n",
    "\n",
    "For example, you can get nosey and view the .Help() and .GetGeneratingString(0) for the objects we have created so far by uncommenting any one of the lines below, and rerun the code block:"
   ]
  },
  {
   "cell_type": "code",
   "execution_count": null,
   "id": "95f4c9af",
   "metadata": {},
   "outputs": [],
   "source": [
    "# HELP STRINGS\n",
    "# Printing out Solar Sys Help() String\n",
    "#ss.Help()\n",
    "# Printing out Earth's Help() String\n",
    "#earth.Help()\n",
    "# Printing out Earth's Help() String\n",
    "#sat.Help()\n",
    "# Printing out ChemicalTank's Help() String\n",
    "#fueltank.Help()\n",
    "\n",
    "# GetGeneratingString STRINGS\n",
    "# Printing out Solar Sys GetGeneratingString(0) String\n",
    "#ss.GetGeneratingString(0)\n",
    "# Printing out Earth's GetGeneratingString(0) String\n",
    "#earth.GetGeneratingString(0)\n",
    "# Printing out Earth's GetGeneratingString(0) String\n",
    "#sat.GetGeneratingString(0)\n",
    "# Printing out ChemicalTank's GetGeneratingString(0) String\n",
    "#fueltank.GetGeneratingString(0)"
   ]
  },
  {
   "cell_type": "markdown",
   "id": "ce502327",
   "metadata": {},
   "source": [
    "You can see that the Help() string output is more verbose than GetGeneratingString(0). Almost all of an object's parameters can be set using the \"obj.SetField(FieldName, FieldValue)\" method. Afterward, using \"obj.GetGeneratingString(0)\" allows you check this, pending SetField doesn't throw an error at you first.\n",
    "\n",
    "Now we need to create a ForceModel Object. This tells GMAT explicitly what forces affect/perturb the satellite's motion in our simulated universe. Below is a fairly typical setup:"
   ]
  },
  {
   "cell_type": "code",
   "execution_count": null,
   "id": "d2a51540",
   "metadata": {},
   "outputs": [],
   "source": [
    "# Create Force Model \n",
    "grav_model_degree_order = 70 # The larger, the higher fidelity\n",
    "flux = 1370.052 # units -> Watts/m^2\n",
    "\n",
    "# Force Model of the orbiter\n",
    "fm = gmat.Construct(\"ForceModel\", \"TheForces\")\n",
    "fm.SetField(\"ErrorControl\", \"None\")\n",
    "\n",
    "# 1.) A 70x70 EGM96 Gravity Model\n",
    "earthgrav = gmat.Construct(\"GravityField\")\n",
    "earthgrav.SetField(\"BodyName\",\"Earth\")\n",
    "earthgrav.SetField(\"Degree\", grav_model_degree_order) \n",
    "earthgrav.SetField(\"Order\", grav_model_degree_order)\n",
    "earthgrav.SetField(\"PotentialFile\",\"EGM96.cof\")\n",
    "earthgrav.SetField(\"TideModel\", \"SolidAndPole\")\n",
    "\n",
    "# 2.) The Point Masses \n",
    "moongrav = gmat.Construct(\"PointMassForce\")\n",
    "moongrav.SetField(\"BodyName\",\"Luna\")\n",
    "sungrav = gmat.Construct(\"PointMassForce\")\n",
    "sungrav.SetField(\"BodyName\",\"Sun\")\n",
    "\n",
    "# 3.) Solar Radiation Pressure Model\n",
    "srp = gmat.Construct(\"SolarRadiationPressure\")\n",
    "srp.SetField(\"SRPModel\", \"Spherical\")\n",
    "srp.SetField(\"Flux\", flux)\n",
    "\n",
    "# 4.) Atmospheric Drag Model\n",
    "jrdrag = gmat.Construct(\"DragForce\")\n",
    "jrdrag.SetField(\"AtmosphereModel\",\"JacchiaRoberts\")\n",
    "jrdrag.SetField(\"HistoricWeatherSource\", 'CSSISpaceWeatherFile')\n",
    "jrdrag.SetField(\"CSSISpaceWeatherFile\", spaceweather_filepath)\n",
    "atmos = gmat.Construct(\"JacchiaRoberts\") #Atmospheric Density Model (ADM)\n",
    "jrdrag.SetReference(atmos) # Assign ADM to Drag Model\n",
    "\n",
    "# Add Force Objects to Force Model \n",
    "fm.AddForce(earthgrav)\n",
    "fm.AddForce(moongrav)\n",
    "fm.AddForce(sungrav)\n",
    "fm.AddForce(jrdrag)\n",
    "fm.AddForce(srp)\n",
    "#fm.GetGeneratingString(0)"
   ]
  },
  {
   "cell_type": "markdown",
   "id": "daa4a2c7",
   "metadata": {},
   "source": [
    "Lets quickly review what is going on in the above code block.\n",
    "\n",
    "> 1.) Add Gravity Model for Central Body: Here, earth is our central body. This adds the force enacted on the satellite by Earth, as the satellite orbits it. The higher the degree/order of the model, the higher fidelity. From the experience of the author of these tutorials, 70 (degree/order) is a typical choice in practice.\n",
    "\n",
    "<br>\n",
    "\n",
    "> 2.) Add Point Masses: This adds the force(s) enacted on the satellite by (non-central) masses. This allows our simulation to be more realistic by constructing a (greater than) two body problem. Here, we are constructing a four body problem with the most dominant (non-central) forces the satellite is subject to (sun, moon). In total, Satellite + Earth + Sun + Moon yields a four body problem.\n",
    "\n",
    "<br>\n",
    "\n",
    "> 3.) Add Solar Pressure: Force caused by an exchange in momenta between the photons emitted by the Sun and the satellite’s surface. Note, you should pick a nominal value for the flux.\n",
    "\n",
    "<br>\n",
    "\n",
    "> 4.) Add Atmospheric Drag: Typically, this is the most dominant perturbation force acting on low Earth orbit (LEO) satellites. This force acts opposite to the direction of travel and is due to the satellite passing through (the thin) atmosphere at its orbital height. Accurate modelling of which is difficult. However, GMAT provides a high fidelity drag model known as Jacchia Roberts, but requires a space weather file. GMAT will use a default space weather source, if not provided. However, it is a best practice to specify it yourself. \n",
    "\n",
    "<br>\n",
    "\n",
    "Now that our forces are setup, we need to construct a propagator. The propagator will take our force model and subject the satellite to these forces (as the satellite orbits) by means of a numerical integration scheme. The following sets this up:"
   ]
  },
  {
   "cell_type": "code",
   "execution_count": null,
   "id": "910b1c91",
   "metadata": {},
   "outputs": [],
   "source": [
    "dt = 60.0 # units -> seconds (Our Time Step)\n",
    "rk89_accuracy = 1.0e-13\n",
    "max_attemps = 50\n",
    "\n",
    "# Build Integrator\n",
    "gator = gmat.Construct(\"RungeKutta89\", \"Gator\")\n",
    "\n",
    "# Build the propagation container that connect the integrator, force model, and spacecraft together\n",
    "pdprop = gmat.Construct(\"Propagator\",\"PDProp\")  \n",
    "\n",
    "# Create and assign a numerical integrator for use in the propagation\n",
    "pdprop.SetReference(gator)\n",
    "pdprop.SetField(\"InitialStepSize\", dt)\n",
    "pdprop.SetField(\"Accuracy\", rk89_accuracy)\n",
    "pdprop.SetField(\"MinStep\", 0)\n",
    "pdprop.SetField(\"MaxStep\", dt)\n",
    "pdprop.SetField(\"MaxStepAttempts\", max_attemps)\n",
    "\n",
    "# Assign the force model to the propagator\n",
    "pdprop.SetReference(fm)\n",
    "\n",
    "# The propagator also needs to know the object that is being propagated\n",
    "pdprop.AddPropObject(sat)\n",
    "\n",
    "# Setup the container which manages all objects being propagated, i.e., our satellite\n",
    "psm = gmat.PropagationStateManager()\n",
    "psm.SetObject(sat)\n",
    "#psm.SetProperty(\"AMatrix\") # will be needed later on\n",
    "psm.BuildState()\n",
    "\n",
    "# Assign PSM as the manager to our force model \n",
    "fm.SetPropStateManager(psm)\n",
    "# Tell force model what the state of our propagated objects are\n",
    "fm.SetState(psm.GetState())"
   ]
  },
  {
   "cell_type": "markdown",
   "id": "7218b414",
   "metadata": {},
   "source": [
    "The above is a somewhat messy sequence of object assignments, but if you squint at it long enough, it begins to make some sense. In play is our Satellite Object, Force Model Object, the Integrator Object, Propagator Object, and a Propagation State \"Manager\" Object. \n",
    "\n",
    "\n",
    "The Propagator needs to know what numerical integration scheme to use, so we assign the Integrator to it. The Runge Kutta integrator is typical, but there are others (such as Dormand–Prince). It also needs to know what object(s) it is propagating (here, our single satellite), and what forces are being modelled, i.e, the ForceModel. The Propagation State Manager keeps track of all these connections.\n",
    "\n",
    "This completes our set-up. Now, a few commands are needed to tell GMAT you're ready to go."
   ]
  },
  {
   "cell_type": "code",
   "execution_count": null,
   "id": "38164c06",
   "metadata": {},
   "outputs": [],
   "source": [
    "# Tell GMAT your're ready to go\n",
    "gmat.Initialize()\n",
    "\n",
    "##  Map the spacecraft state into the model\n",
    "fm.BuildModelFromMap()\n",
    "#  Load the physical parameters needed for the forces\n",
    "fm.UpdateInitialData()\n",
    "\n",
    "# Perform the integation subsysem initialization\n",
    "pdprop.PrepareInternals()\n",
    "# Refresh the integrator reference after initialization\n",
    "gator = pdprop.GetPropagator()"
   ]
  },
  {
   "cell_type": "markdown",
   "id": "577eddfc",
   "metadata": {},
   "source": [
    "Our \"Final Product\" is the 'gator' object above. We can use this object to propagate our satellite, and retrieve the updated satellite state after a propagation. The following shows how to propagate the satellite, and plot its state history:"
   ]
  },
  {
   "cell_type": "code",
   "execution_count": null,
   "id": "a851515b",
   "metadata": {},
   "outputs": [],
   "source": [
    "import matplotlib.pyplot as plt \n",
    "num_props = 200\n",
    "states = [] \n",
    "times = [] \n",
    "\n",
    "# Begin Loop \n",
    "\n",
    "# Append initial state\n",
    "states.append(np.array(gator.GetState())) # state is returned as a list \n",
    "times.append(gator.GetTime())\n",
    "for i in range(num_props):\n",
    "    # Step and Append \n",
    "    gator.Step(dt)\n",
    "    states.append(np.array(gator.GetState()))\n",
    "    times.append(gator.GetTime())\n",
    "\n",
    "# Plot 3D Trajectory\n",
    "states = np.array(states)\n",
    "times = np.array(times)\n",
    "fig = plt.figure() \n",
    "ax = fig.gca(projection='3d') \n",
    "ax.set_title('Satellite Trajectory')\n",
    "ax.plot(states[:,0], states[:,1], states[:,2])\n",
    "ax.set_xlabel('X (Km)')\n",
    "ax.set_ylabel('Y (Km)')\n",
    "ax.set_zlabel('Z (Km)')\n",
    "# Plot Velocities\n",
    "fig2 = plt.figure()\n",
    "plt.suptitle(\"Velocities (X/Y/Z), respectively\")\n",
    "plt.plot(times, states[:,3], 'r') # X axis\n",
    "plt.plot(times, states[:,4], 'g') # Y axis\n",
    "plt.plot(times, states[:,5], 'b') # Z axis\n",
    "plt.ylabel(\"Km/sec\")\n",
    "plt.xlabel(\"seconds\")\n",
    "\n",
    "# Used for comparison for next cell block\n",
    "print(\"Initial State: \", x0)\n",
    "print(\"Propagated State:\", states[1])"
   ]
  },
  {
   "cell_type": "markdown",
   "id": "e2f2dbe8",
   "metadata": {},
   "source": [
    "Now that we've walked through setting this procedure up once, you can readily create a Satellite Object (for LEO satellites orbiting earth) through the gnav module, by using the class \"gnav.EarthOrbitingSatellite(...)\". We will use this clean (two-liner) call in the following tutorials. To conclude this tutorial, we'll see how to construct this object. It should look familiar to you now."
   ]
  },
  {
   "cell_type": "code",
   "execution_count": null,
   "id": "5473f940",
   "metadata": {},
   "outputs": [],
   "source": [
    "# Scrap our previous gmat settings\n",
    "gmat.Clear()\n",
    "\n",
    "# Remember, your intial epoch time must be UTC Gregorian, otherwise use the time_convert(...) function in gnav to switch it!\n",
    "t0 = datetime(year=2023, month=7, day=10, hour=19, minute=34, second=54, microsecond=0) #\"10 Jul 2023 19:34:54.000\" # Initial Time (string or datetime object) in UTC Greg\n",
    "\n",
    "pos3 = np.array([4.9962452882705193e+03,3.8779464630861030e+03,2.7360432364171807e+03]) # approx a 550 (units -> kilometer) orbit\n",
    "vel3 = np.array([-5.0280935744461930e+00,5.5759213419992673e+00,1.2698611722905329e+00]) # speed (units -> kilometers/second) needed to \n",
    "x0 = np.concatenate((pos3, vel3)) # Your initial state vector\n",
    "Cd0 = 2.1 # nominal coefficient of drag # unitless\n",
    "Cr0 = 0.75 # nominal coefficient of reflectivity # unitless\n",
    "A = 14.18 # (Drag) Area of the satellite # units -> meters\n",
    "m = 3995.6 # (dry) mass of the satellite # units -> kilograms\n",
    "fuel_mass = 359.9 # units -> kilograms\n",
    "solar_flux = 1370.052 # units -> Watts/m^2\n",
    "dt = 60.0 # units -> seconds (Our Time Step)\n",
    "earth_model_degree = 70 # (our grav_model_degree_order from before)\n",
    "earth_model_order = 70 # (our grav_model_degree_order from before)\n",
    "# Optional forces\n",
    "with_jacchia = True \n",
    "with_SRP = True\n",
    "\n",
    "# As this is a single satellite class object using GMAT, we do not truly need a 'spacecraft ID'\n",
    "# Setting gmat_print=True will print the object Help() or GenereratingString() methods ...\n",
    "#  ... giving you some extra confidence that parameters are set correctly\n",
    "sat = gnav.EarthOrbitingSatellite(eop_filepath, spaceweather_filepath, gmat_print=False)\n",
    "sat.create_model(t0, x0, Cd0, Cr0, A, m, fuel_mass, solar_flux, dt,\n",
    "    earth_model_degree = earth_model_degree,\n",
    "    earth_model_order = earth_model_order,\n",
    "    with_jacchia = with_jacchia,\n",
    "    with_SRP = with_SRP)\n",
    "print(\"Initial State: \", x0)\n",
    "print(\"Propagated State:\", sat.step())"
   ]
  },
  {
   "cell_type": "markdown",
   "id": "c96f9c4b",
   "metadata": {},
   "source": [
    "There are several more optional arguments you can pass to sat.create_model(...). These all correspond to integrator parameters. The default values, however, meet the mission specs of the Fermi Satellite.\n",
    "\n",
    "We are now ready to introduce our estimation precursors! See Tutorial 3."
   ]
  }
 ],
 "metadata": {
  "interpreter": {
   "hash": "aee8b7b246df8f9039afb4144a1f6fd8d2ca17a180786b69acc140d282b71a49"
  },
  "kernelspec": {
   "display_name": "Python 3.7.4 64-bit",
   "language": "python",
   "name": "python3"
  },
  "language_info": {
   "codemirror_mode": {
    "name": "ipython",
    "version": 3
   },
   "file_extension": ".py",
   "mimetype": "text/x-python",
   "name": "python",
   "nbconvert_exporter": "python",
   "pygments_lexer": "ipython3",
   "version": "3.7.4"
  }
 },
 "nbformat": 4,
 "nbformat_minor": 5
}
