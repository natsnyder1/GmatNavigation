{
 "cells": [
  {
   "cell_type": "code",
   "execution_count": null,
   "id": "cde9d333",
   "metadata": {},
   "outputs": [],
   "source": [
    "import sys, os, math\n",
    "import numpy as np "
   ]
  },
  {
   "cell_type": "markdown",
   "id": "410563e0",
   "metadata": {},
   "source": [
    "Welcome to tutorial one of this GMAT navigation series. In the following series of tutorials, you will see how to interact with the GMAT Python API. Moreover, at completion of this tutorial series, you should be well equipt to exploit the GMAT API to build estimation algorithms, such as the extended Kalman filter, the unscented Kalman filter, a particle filter, or truly, any general estimation algorithm for an application of your choosing.\n",
    "\n",
    "Some notes to start: This series assumes that you have installed GMAT, its python wrapper, and also have some basic Python skills. Visit https://github.com/ChristopherRabotin/GMAT/tree/GMAT-2020a or your favorite GMAT fork for GMAT installation instructions.\n",
    "\n",
    "In this tutorial, we introduce loading in the GMAT environment. System paths are required to locate GMAT, a 'Space Weather' file, and an 'Earth Orientation Parameters' (EOP) file. I've included SpaceWeather and EOP files for you in the subdirectory entitled \"data\", so dont fret. Change these to your mission standard, if you need.\n",
    "\n",
    "The following code snippet checks for the above requirements. If you can run the following error free, you're set to use Python GMAT and continue onwards in this tutorial series. \n",
    "\n",
    "In each tutorial jupyter notebook, you will need to modify the section of code below the comment\n",
    ">  ### --------------- USER DEFINED PATHS (USER -- PLEASE LOOK HERE!) ------------------\n",
    "Go ahead and do so below, and then run the cell."
   ]
  },
  {
   "cell_type": "code",
   "execution_count": null,
   "id": "aa7a92a2",
   "metadata": {},
   "outputs": [],
   "source": [
    "\n",
    "# Directory location of this Jupyter notebook tutorial\n",
    "file_dir = os.path.abspath('') #os.path.dirname(os.path.abspath(__file__))\n",
    "\n",
    "# --------------- USER DEFINED PATHS (USER -- PLEASE LOOK HERE!) ------------------# \n",
    "# Directory of the GMAT folder -- You WILL NEED to change this!\n",
    "gmat_root_dir = '/home/natsubuntu/Desktop/SysControl/estimation/CauchyCPU/CauchyEst_Nat/GMAT'\n",
    "# Directory location of the SpaceWeather and EOP File -- You MAY NOT need to change this!\n",
    "gmat_data_dir = file_dir + \"/data\"\n",
    "# Name of EOP file and SpaceWeather file, which are located in gmat_data_dir -- You MAY NOT need to change these!\n",
    "EOP_filename = \"eop_file.txt\"\n",
    "SpaceWeather_filename = \"SpaceWeather-v1.2.txt\"\n",
    "\n",
    "# --------------- AUTOMATED CHECKS ON USER CONFIGURED PATHS ----------------- #\n",
    "# 1.) Test directory location of the SpaceWeather and EOP File for existence\n",
    "if not os.path.isdir(gmat_data_dir):\n",
    "    print(\"ERROR: gmat_root_dir: {}\\nSEEN NOT TO EXIST! Please check path! Exiting!\".format(gmat_data_dir))\n",
    "    exit(1)\n",
    "gmat_eop_file = gmat_data_dir + \"/\" + EOP_filename\n",
    "gmat_sw_file = gmat_data_dir + \"/\" + SpaceWeather_filename\n",
    "if not os.path.isfile(gmat_eop_file):\n",
    "    print(\"ERROR: gmat_eop_file: {}\\nSEEN NOT TO EXIST! Please check path! Exiting!\".format(gmat_eop_file))\n",
    "    exit(1)\n",
    "if not os.path.isfile(gmat_sw_file):\n",
    "    print(\"ERROR: gmat_sw_file: {}\\nSEEN NOT TO EXIST! Please check path! Exiting!\".format(gmat_sw_file))\n",
    "    exit(1)\n",
    "# 2.) Check GMAT Subdirectories for existence, leaving nothing to chance\n",
    "gmat_application_dir = gmat_root_dir + '/application' \n",
    "if os.path.exists(gmat_application_dir):\n",
    "    # GMAT's bin, api, and python interface (gmatpy) directories, and the location of api_startup_file.txt, respectively\n",
    "    gmat_bin_dir = gmat_application_dir + '/bin'\n",
    "    gmat_api_dir = gmat_application_dir + '/api'\n",
    "    gmat_py_dir = gmat_bin_dir + '/gmatpy'\n",
    "    gmat_startup_file = gmat_bin_dir + '/api_startup_file.txt'\n",
    "    if os.path.exists(gmat_bin_dir):\n",
    "        if gmat_bin_dir not in sys.path:\n",
    "            sys.path.append(gmat_bin_dir)\n",
    "    else:\n",
    "        print(\"ERROR: gmat_bin_dir: {}\\nSEEN NOT TO EXIST! Please check path! Exiting!\".format(gmat_bin_dir))\n",
    "        exit(1)\n",
    "    if os.path.exists(gmat_api_dir):\n",
    "        if gmat_api_dir not in sys.path:\n",
    "            sys.path.append(gmat_api_dir)\n",
    "    else:\n",
    "        print(\"ERROR: gmat_api_dir: {}\\nSEEN NOT TO EXIST! Please check path! Exiting!\".format(gmat_api_dir))\n",
    "        exit(1)\n",
    "    if os.path.exists(gmat_py_dir):\n",
    "        if gmat_py_dir not in sys.path:\n",
    "            sys.path.append(gmat_py_dir)\n",
    "    else:\n",
    "        print(\"ERROR: gmat_py_dir: {}\\nSEEN NOT TO EXIST! Please check path! Exiting!\".format(gmat_py_dir))\n",
    "        exit(1)\n",
    "    if os.path.exists(gmat_startup_file):\n",
    "        import gmat_py as gmat # The main act\n",
    "        gmat.Setup(gmat_startup_file) # The main act\n",
    "    else:\n",
    "        print(\"ERROR: gmat_startup_file: {}\\nSEEN NOT TO EXIST! Please check path! Exiting!\".format(gmat_startup_file))\n",
    "        exit(1)\n",
    "else:\n",
    "    print(\"ERROR: gmat_application_dir: {}\\nSEEN NOT TO EXIST! Please check path! Exiting!\".format(gmat_application_dir))\n",
    "    exit(1)\n",
    "print(\"All Looks Good! Youre Set!\")"
   ]
  },
  {
   "cell_type": "markdown",
   "id": "1af146fd",
   "metadata": {},
   "source": [
    "If you got the message \"All Looks Good! Youre Set!\" above, then you're all setup and ready to use this tutorial series.\n",
    "\n",
    "A pedantic rant: Its important to follow all installation steps for GMAT, as some files dont exist until built. For example, once you have installed GMAT, compiled, and built its Python wrapper, you will need to change directories to GMAT/application/api and execute \n",
    "\n",
    "> YOUR-PYTHON-VERSION BuildApiStartupFile.py\n",
    "\n",
    "For example, using Python 3.7, one could do so as:\n",
    "> python3.7 BuildApiStartupFile.py\n",
    "\n",
    "This will place the api_startup_file.txt into the application/bin folder. This may give you a little insight into why we need to define the paths above."
   ]
  },
  {
   "cell_type": "markdown",
   "id": "c683ba10",
   "metadata": {},
   "source": [
    "As we go through these tutorials, we will refactor code blocks into a usable library to reduce our code redundancy. This will be pointed out after various tutorial checkpoints. All refactored code is located in \"gmat_nav.py\", located within this directory. The contents of \"gmat_nav.py\" provides functionality for most of your basic estimation/navigation needs, but by no means is a complete estimation library: its a jumping off point. For example, the above \"check then load gmatpy\" code block has been refactored into the function   \n",
    "> check_then_load_gmatpy(gmat_root_dir, eop_filepath, spaceweather_filepath)\n",
    "located in gmat_nav.py.\n",
    "\n",
    "Last thing: if you are using an interactive debugger, such as vscode when building your own application (or viewing this tutorial series), it will be very helpful to have intellisense as you poke around the 'gmat_py' module (this I highly recommend). To give yourself intellisense with the gmat_py module, you can softlink it in the current directory:\n",
    "\n",
    "For example:\n",
    "> ln -s PATH_TO_GMATPY/gmat_py.py gmat_py.py \n",
    "\n",
    "will give you a softlink to GMAT Python in your current directory. Now, as you type, the various gmat_py wrapper functions will pop up. Its a very nice extra."
   ]
  }
 ],
 "metadata": {
  "interpreter": {
   "hash": "aee8b7b246df8f9039afb4144a1f6fd8d2ca17a180786b69acc140d282b71a49"
  },
  "kernelspec": {
   "display_name": "Python 3.7.4 64-bit",
   "language": "python",
   "name": "python3"
  },
  "language_info": {
   "codemirror_mode": {
    "name": "ipython",
    "version": 3
   },
   "file_extension": ".py",
   "mimetype": "text/x-python",
   "name": "python",
   "nbconvert_exporter": "python",
   "pygments_lexer": "ipython3",
   "version": "3.7.4"
  }
 },
 "nbformat": 4,
 "nbformat_minor": 5
}
